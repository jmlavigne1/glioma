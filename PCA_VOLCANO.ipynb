{
 "cells": [
  {
   "cell_type": "code",
   "execution_count": 4,
   "metadata": {},
   "outputs": [],
   "source": [
    "import pandas as pd\n",
    "import numpy as np\n",
    "import matplotlib.pyplot as plt\n",
    "import seaborn as sns\n",
    "\n",
    "from ucimlrepo import fetch_ucirepo \n",
    "  \n",
    "# fetch dataset \n",
    "glioma_grading_clinical_and_mutation_features = fetch_ucirepo(id=759) \n",
    "  \n",
    "# data (as pandas dataframes) \n",
    "X = glioma_grading_clinical_and_mutation_features.data.features \n",
    "y = glioma_grading_clinical_and_mutation_features.data.targets"
   ]
  },
  {
   "cell_type": "code",
   "execution_count": 5,
   "metadata": {},
   "outputs": [
    {
     "name": "stdout",
     "output_type": "stream",
     "text": [
      "   Gender  Age_at_diagnosis   Race  IDH1  TP53  ATRX  PTEN  EGFR  CIC  MUC16  \\\n",
      "0       0             51.30  white     1     0     0     0     0    0      0   \n",
      "1       0             38.72  white     1     0     0     0     0    1      0   \n",
      "2       0             35.17  white     1     1     1     0     0    0      0   \n",
      "3       1             32.78  white     1     1     1     0     0    0      1   \n",
      "4       0             31.51  white     1     1     1     0     0    0      0   \n",
      "\n",
      "   ...  FUBP1  RB1  NOTCH1  BCOR  CSMD3  SMARCA4  GRIN2A  IDH2  FAT4  PDGFRA  \n",
      "0  ...      1    0       0     0      0        0       0     0     0       0  \n",
      "1  ...      0    0       0     0      0        0       0     0     0       0  \n",
      "2  ...      0    0       0     0      0        0       0     0     0       0  \n",
      "3  ...      0    0       0     0      0        0       0     0     1       0  \n",
      "4  ...      0    0       0     0      0        0       0     0     0       0  \n",
      "\n",
      "[5 rows x 23 columns]\n"
     ]
    }
   ],
   "source": [
    "print(X.head())"
   ]
  },
  {
   "cell_type": "code",
   "execution_count": 6,
   "metadata": {},
   "outputs": [
    {
     "name": "stdout",
     "output_type": "stream",
     "text": [
      "Race\n",
      "white                               765\n",
      "black or african american            59\n",
      "asian                                14\n",
      "american indian or alaska native      1\n",
      "Name: count, dtype: int64\n"
     ]
    }
   ],
   "source": [
    "print(X['Race'].value_counts())"
   ]
  },
  {
   "cell_type": "code",
   "execution_count": 7,
   "metadata": {},
   "outputs": [
    {
     "name": "stdout",
     "output_type": "stream",
     "text": [
      "    american indian or alaska native  asian  black or african american  white\n",
      "ID                                                                           \n",
      "0                                  0      0                          0      1\n",
      "1                                  0      0                          0      1\n",
      "2                                  0      0                          0      1\n",
      "3                                  0      0                          0      1\n",
      "4                                  0      0                          0      1\n"
     ]
    }
   ],
   "source": [
    "X_dummies_race = pd.get_dummies(X['Race'])\n",
    "X1 = X_dummies_race.astype(int)\n",
    "X1 = X1.rename_axis('ID')\n",
    "print(X1.head())"
   ]
  },
  {
   "cell_type": "code",
   "execution_count": 8,
   "metadata": {},
   "outputs": [],
   "source": [
    "X = X.drop('Race', axis=1)"
   ]
  },
  {
   "cell_type": "code",
   "execution_count": 9,
   "metadata": {},
   "outputs": [
    {
     "name": "stdout",
     "output_type": "stream",
     "text": [
      "    Gender  Age_at_diagnosis  IDH1  TP53  ATRX  PTEN  EGFR  CIC  MUC16  \\\n",
      "ID                                                                       \n",
      "0        0             51.30     1     0     0     0     0    0      0   \n",
      "1        0             38.72     1     0     0     0     0    1      0   \n",
      "2        0             35.17     1     1     1     0     0    0      0   \n",
      "3        1             32.78     1     1     1     0     0    0      1   \n",
      "4        0             31.51     1     1     1     0     0    0      0   \n",
      "\n",
      "    PIK3CA  ...  FUBP1  RB1  NOTCH1  BCOR  CSMD3  SMARCA4  GRIN2A  IDH2  FAT4  \\\n",
      "ID          ...                                                                 \n",
      "0        1  ...      1    0       0     0      0        0       0     0     0   \n",
      "1        0  ...      0    0       0     0      0        0       0     0     0   \n",
      "2        0  ...      0    0       0     0      0        0       0     0     0   \n",
      "3        0  ...      0    0       0     0      0        0       0     0     1   \n",
      "4        0  ...      0    0       0     0      0        0       0     0     0   \n",
      "\n",
      "    PDGFRA  \n",
      "ID          \n",
      "0        0  \n",
      "1        0  \n",
      "2        0  \n",
      "3        0  \n",
      "4        0  \n",
      "\n",
      "[5 rows x 22 columns]\n"
     ]
    }
   ],
   "source": [
    "X = X.rename_axis('ID')\n",
    "print(X.head())"
   ]
  },
  {
   "cell_type": "code",
   "execution_count": 10,
   "metadata": {},
   "outputs": [],
   "source": [
    "X = pd.merge(X, X1, on='ID', how='inner')"
   ]
  },
  {
   "cell_type": "code",
   "execution_count": 11,
   "metadata": {},
   "outputs": [
    {
     "name": "stdout",
     "output_type": "stream",
     "text": [
      "Index(['Gender', 'Age_at_diagnosis', 'IDH1', 'TP53', 'ATRX', 'PTEN', 'EGFR',\n",
      "       'CIC', 'MUC16', 'PIK3CA', 'NF1', 'PIK3R1', 'FUBP1', 'RB1', 'NOTCH1',\n",
      "       'BCOR', 'CSMD3', 'SMARCA4', 'GRIN2A', 'IDH2', 'FAT4', 'PDGFRA',\n",
      "       'american indian or alaska native', 'asian',\n",
      "       'black or african american', 'white'],\n",
      "      dtype='object')\n"
     ]
    }
   ],
   "source": [
    "print(X.columns)"
   ]
  },
  {
   "cell_type": "code",
   "execution_count": 12,
   "metadata": {},
   "outputs": [],
   "source": [
    "#PCA\n",
    "from sklearn.decomposition import PCA\n",
    "from sklearn.preprocessing import StandardScaler"
   ]
  },
  {
   "cell_type": "code",
   "execution_count": 16,
   "metadata": {},
   "outputs": [],
   "source": [
    "data_scaled = StandardScaler().fit_transform(X)\n",
    "pca = PCA(n_components=26)\n",
    "components = pca.fit(data_scaled).components_"
   ]
  },
  {
   "cell_type": "code",
   "execution_count": 19,
   "metadata": {},
   "outputs": [
    {
     "name": "stdout",
     "output_type": "stream",
     "text": [
      "                                    comp 1    comp 2    comp 3    comp 4  \\\n",
      "Gender                           -0.037038  0.032123  0.011878  0.127819   \n",
      "Age_at_diagnosis                  0.416645  0.073211 -0.032661 -0.138733   \n",
      "IDH1                             -0.507712  0.021427  0.125298  0.064084   \n",
      "TP53                             -0.298599 -0.228042 -0.332568  0.223447   \n",
      "ATRX                             -0.365686 -0.231524 -0.206482  0.227373   \n",
      "PTEN                              0.299478 -0.024675 -0.166158  0.005612   \n",
      "EGFR                              0.287012  0.009518 -0.108200  0.047486   \n",
      "CIC                              -0.116990  0.387363  0.385344  0.046605   \n",
      "MUC16                             0.094700  0.020240 -0.098533  0.229094   \n",
      "PIK3CA                            0.051535  0.129711  0.118747  0.125045   \n",
      "NF1                               0.151433  0.093117 -0.044342  0.124189   \n",
      "PIK3R1                            0.078279  0.065509  0.069868  0.124412   \n",
      "FUBP1                            -0.076895  0.368251  0.307360  0.122494   \n",
      "RB1                               0.142144  0.085752 -0.207382  0.239048   \n",
      "NOTCH1                           -0.101173  0.261120  0.206726  0.083023   \n",
      "BCOR                              0.006614  0.122628 -0.046181  0.263045   \n",
      "CSMD3                             0.047459  0.143963 -0.170975  0.331165   \n",
      "SMARCA4                          -0.066991  0.097879 -0.082020  0.275925   \n",
      "GRIN2A                            0.108972  0.141330 -0.118890  0.244018   \n",
      "IDH2                              0.012660  0.101421  0.067641  0.096707   \n",
      "FAT4                              0.051845  0.152644 -0.073685  0.302809   \n",
      "PDGFRA                            0.072934  0.123635 -0.099494  0.263341   \n",
      "american indian or alaska native  0.018797 -0.051788  0.053737 -0.010404   \n",
      "asian                             0.017706 -0.169294  0.217951  0.097920   \n",
      "black or african american         0.167531 -0.395789  0.356322  0.294176   \n",
      "white                            -0.161335  0.439624 -0.426255 -0.308201   \n",
      "\n",
      "                                    comp 5    comp 6    comp 7    comp 8  \\\n",
      "Gender                            0.330578  0.086552  0.052144 -0.394590   \n",
      "Age_at_diagnosis                 -0.110302 -0.004481 -0.021567 -0.199099   \n",
      "IDH1                             -0.140166  0.006518 -0.034276 -0.116529   \n",
      "TP53                             -0.003446  0.031525 -0.138007 -0.045441   \n",
      "ATRX                              0.011435 -0.064753 -0.022984 -0.021164   \n",
      "PTEN                             -0.015167  0.127532 -0.341468 -0.059236   \n",
      "EGFR                             -0.212877  0.173803  0.320264 -0.015998   \n",
      "CIC                               0.068147  0.020352  0.014041 -0.059642   \n",
      "MUC16                            -0.131434 -0.250598  0.334998 -0.244658   \n",
      "PIK3CA                            0.064513  0.403774  0.217874  0.061916   \n",
      "NF1                               0.078567 -0.166304 -0.498454  0.179465   \n",
      "PIK3R1                           -0.236717 -0.499174 -0.079807 -0.038938   \n",
      "FUBP1                            -0.082198 -0.051149 -0.127270 -0.124101   \n",
      "RB1                               0.051397  0.167590 -0.287914  0.010288   \n",
      "NOTCH1                           -0.234186  0.113393 -0.198063 -0.028933   \n",
      "BCOR                              0.228379  0.284581 -0.227698 -0.182692   \n",
      "CSMD3                            -0.248202  0.180181  0.215513  0.082278   \n",
      "SMARCA4                          -0.289008  0.273822  0.080726  0.247638   \n",
      "GRIN2A                            0.037181 -0.087045 -0.077842  0.198068   \n",
      "IDH2                              0.578284 -0.067561  0.230112  0.487533   \n",
      "FAT4                              0.129934 -0.376270  0.088954  0.076103   \n",
      "PDGFRA                            0.049814 -0.214325  0.153306 -0.198649   \n",
      "american indian or alaska native -0.018069 -0.007615  0.019819  0.267094   \n",
      "asian                            -0.302289 -0.046953 -0.082370  0.365299   \n",
      "black or african american         0.126131  0.055129 -0.003434 -0.196598   \n",
      "white                             0.025018 -0.027571  0.037891 -0.020242   \n",
      "\n",
      "                                    comp 9   comp 10  ...   comp 17   comp 18  \\\n",
      "Gender                            0.347394 -0.197862  ...  0.170468 -0.078406   \n",
      "Age_at_diagnosis                  0.148476  0.025585  ...  0.088475 -0.064910   \n",
      "IDH1                             -0.063043 -0.003114  ... -0.066456 -0.078267   \n",
      "TP53                             -0.101809  0.017705  ... -0.031248  0.108761   \n",
      "ATRX                             -0.094031 -0.004741  ... -0.030304  0.069525   \n",
      "PTEN                             -0.083863 -0.046488  ... -0.267443 -0.003144   \n",
      "EGFR                             -0.205231 -0.090643  ... -0.032712  0.210778   \n",
      "CIC                              -0.034271  0.000051  ... -0.052509 -0.114616   \n",
      "MUC16                            -0.034465  0.122746  ... -0.230242 -0.161960   \n",
      "PIK3CA                           -0.146308 -0.005323  ... -0.098120 -0.129311   \n",
      "NF1                              -0.018074  0.020213  ... -0.159605 -0.002890   \n",
      "PIK3R1                           -0.040518 -0.097425  ...  0.113496 -0.283263   \n",
      "FUBP1                            -0.212765  0.027865  ... -0.115362  0.115393   \n",
      "RB1                              -0.083819 -0.038823  ...  0.423703  0.162129   \n",
      "NOTCH1                           -0.024082  0.044887  ...  0.216523  0.455304   \n",
      "BCOR                              0.317148  0.158391  ... -0.360802 -0.218484   \n",
      "CSMD3                             0.006419 -0.071853  ... -0.341688  0.236718   \n",
      "SMARCA4                           0.178450 -0.019599  ...  0.400853 -0.471622   \n",
      "GRIN2A                           -0.348721 -0.014816  ...  0.098885 -0.270841   \n",
      "IDH2                             -0.008378 -0.126336  ...  0.036268  0.140808   \n",
      "FAT4                              0.042524 -0.117026  ... -0.119281  0.056572   \n",
      "PDGFRA                            0.313064  0.282254  ...  0.263833  0.320607   \n",
      "american indian or alaska native  0.072339  0.841004  ... -0.025845 -0.025523   \n",
      "asian                             0.525030 -0.267040  ... -0.166491  0.108070   \n",
      "black or african american        -0.267303  0.035026  ...  0.098499 -0.009366   \n",
      "white                            -0.004947 -0.013283  ... -0.010462 -0.037265   \n",
      "\n",
      "                                   comp 19   comp 20   comp 21   comp 22  \\\n",
      "Gender                           -0.156557 -0.132812 -0.070450 -0.024612   \n",
      "Age_at_diagnosis                  0.093615  0.027465  0.143345 -0.483414   \n",
      "IDH1                              0.040534  0.017756  0.023802  0.139606   \n",
      "TP53                              0.007691 -0.099234 -0.042325 -0.269860   \n",
      "ATRX                             -0.002950 -0.108920 -0.219616 -0.096260   \n",
      "PTEN                              0.069531 -0.665755 -0.053100  0.230014   \n",
      "EGFR                              0.178861  0.189723 -0.549173  0.111007   \n",
      "CIC                              -0.071028  0.015451 -0.038725  0.270736   \n",
      "MUC16                            -0.107318  0.143518 -0.105130  0.025236   \n",
      "PIK3CA                           -0.127368 -0.282416 -0.071707  0.126687   \n",
      "NF1                              -0.230066  0.211712 -0.292628  0.115734   \n",
      "PIK3R1                           -0.352182 -0.079230 -0.053078  0.093911   \n",
      "FUBP1                             0.000591 -0.159778 -0.303344 -0.601250   \n",
      "RB1                              -0.192865  0.291187 -0.068042  0.115299   \n",
      "NOTCH1                            0.196507  0.012177  0.189709  0.107329   \n",
      "BCOR                              0.177752  0.314322  0.005042 -0.044528   \n",
      "CSMD3                            -0.392552  0.069689  0.421671 -0.040009   \n",
      "SMARCA4                           0.140289 -0.105494 -0.162129 -0.061490   \n",
      "GRIN2A                            0.154080 -0.046625  0.387376 -0.124868   \n",
      "IDH2                             -0.144826 -0.062809 -0.073606 -0.180758   \n",
      "FAT4                              0.621895  0.012693  0.047003  0.164296   \n",
      "PDGFRA                           -0.061115 -0.299772 -0.009201  0.104871   \n",
      "american indian or alaska native -0.029771 -0.048362 -0.061226  0.000573   \n",
      "asian                             0.011613 -0.053408 -0.071588 -0.077966   \n",
      "black or african american         0.023021  0.044440  0.090533  0.018569   \n",
      "white                            -0.022380 -0.010060 -0.041842  0.018404   \n",
      "\n",
      "                                   comp 23   comp 24   comp 25       comp 26  \n",
      "Gender                           -0.075468 -0.061092  0.000514  1.064008e-16  \n",
      "Age_at_diagnosis                  0.586907 -0.024578 -0.257783 -2.860746e-17  \n",
      "IDH1                              0.113777 -0.059634 -0.785200  2.339499e-17  \n",
      "TP53                              0.089589 -0.706197  0.169312  6.800835e-17  \n",
      "ATRX                              0.450199  0.590787  0.200741 -3.815814e-17  \n",
      "PTEN                              0.037275  0.038812 -0.130264  1.038322e-18  \n",
      "EGFR                              0.079779 -0.164409 -0.107539  7.763776e-17  \n",
      "CIC                               0.536586 -0.221889  0.349379  2.052636e-18  \n",
      "MUC16                            -0.079905  0.019257 -0.026523 -1.223758e-16  \n",
      "PIK3CA                            0.004135  0.005696 -0.029005  4.297595e-17  \n",
      "NF1                               0.090198 -0.088439 -0.092438 -4.929102e-17  \n",
      "PIK3R1                           -0.036513 -0.069930 -0.007849 -1.571968e-17  \n",
      "FUBP1                            -0.297642  0.128035  0.029583 -3.362155e-17  \n",
      "RB1                              -0.009828  0.156818 -0.102470 -6.017919e-17  \n",
      "NOTCH1                           -0.006766 -0.019194  0.051255  5.632913e-18  \n",
      "BCOR                             -0.098829  0.055085  0.000931 -1.099492e-17  \n",
      "CSMD3                             0.040620  0.058742  0.006803  4.141333e-17  \n",
      "SMARCA4                          -0.036372 -0.002896  0.029016  6.224248e-17  \n",
      "GRIN2A                           -0.026370 -0.004293 -0.005674  8.009185e-17  \n",
      "IDH2                              0.097917 -0.056482 -0.255444 -5.823432e-18  \n",
      "FAT4                              0.009164  0.015622  0.008822  3.435543e-17  \n",
      "PDGFRA                           -0.028282 -0.028284 -0.075892 -7.409590e-17  \n",
      "american indian or alaska native  0.040280 -0.022776 -0.025479 -8.535699e-02  \n",
      "asian                             0.010638 -0.016817  0.012322 -3.168897e-01  \n",
      "black or african american         0.006114 -0.011728 -0.017461 -6.325435e-01  \n",
      "white                            -0.015218  0.020941  0.013278 -7.015581e-01  \n",
      "\n",
      "[26 rows x 26 columns]\n"
     ]
    }
   ],
   "source": [
    "components_framed = pd.DataFrame(components).transpose()\n",
    "components_framed.columns = ['comp 1','comp 2', 'comp 3', 'comp 4', 'comp 5', 'comp 6', 'comp 7', 'comp 8', 'comp 9', 'comp 10', 'comp 11', 'comp 12', 'comp 13', 'comp 14', 'comp 15', 'comp 16', 'comp 17', 'comp 18', 'comp 19', 'comp 20', 'comp 21', 'comp 22', 'comp 23', 'comp 24', 'comp 25', 'comp 26']\n",
    "\n",
    "\n",
    "components_framed.index = X.columns\n",
    "print(components_framed)"
   ]
  },
  {
   "cell_type": "code",
   "execution_count": 20,
   "metadata": {},
   "outputs": [
    {
     "name": "stdout",
     "output_type": "stream",
     "text": [
      "                          comp 1    comp 2    comp 3    comp 4    comp 5  \\\n",
      "Proportion of Variance  0.110347  0.078834  0.075677  0.065403  0.045067   \n",
      "\n",
      "                          comp 6    comp 7    comp 8   comp 9   comp 10  ...  \\\n",
      "Proportion of Variance  0.044666  0.043595  0.041479  0.04008  0.038825  ...   \n",
      "\n",
      "                         comp 17   comp 18   comp 19   comp 20   comp 21  \\\n",
      "Proportion of Variance  0.030613  0.030428  0.029023  0.025827  0.024628   \n",
      "\n",
      "                         comp 22   comp 23   comp 24   comp 25       comp 26  \n",
      "Proportion of Variance  0.022607  0.017538  0.015241  0.008318  2.176219e-32  \n",
      "\n",
      "[1 rows x 26 columns]\n"
     ]
    }
   ],
   "source": [
    "var_ratio = pca.explained_variance_ratio_\n",
    "var_ratio = pd.DataFrame(var_ratio).transpose()\n",
    "var_ratio.columns = ['comp 1','comp 2', 'comp 3', 'comp 4', 'comp 5', 'comp 6', 'comp 7', 'comp 8', 'comp 9', 'comp 10', 'comp 11', 'comp 12', 'comp 13', 'comp 14', 'comp 15', 'comp 16', 'comp 17', 'comp 18', 'comp 19', 'comp 20', 'comp 21', 'comp 22', 'comp 23', 'comp 24', 'comp 25', 'comp 26']\n",
    "var_ratio.index = ['Proportion of Variance']\n",
    "print(var_ratio)"
   ]
  },
  {
   "cell_type": "code",
   "execution_count": 23,
   "metadata": {},
   "outputs": [],
   "source": [
    "x = range(1, len(var_ratio.columns) + 1)\n",
    "y = var_ratio.iloc[0].tolist()"
   ]
  },
  {
   "cell_type": "code",
   "execution_count": 24,
   "metadata": {},
   "outputs": [
    {
     "data": {
      "image/png": "[encoded data removed]",
      "text/plain": [
       "<Figure size 1000x600 with 1 Axes>"
      ]
     },
     "metadata": {},
     "output_type": "display_data"
    }
   ],
   "source": [
    "import matplotlib.pyplot as plt\n",
    "\n",
    "plt.figure(figsize=(10,6))\n",
    "plt.plot(x, y, marker='o', linewidth=3, color=\"orange\")\n",
    "plt.title(\"Scree Plot for PCA of Glioma Dataset\")\n",
    "plt.xlabel(\"Principle Components\")\n",
    "plt.ylabel(\"Explained Variance Ratio (in %)\")\n",
    "#plt.xticks(x)\n",
    "plt.grid(True)\n",
    "plt.show()"
   ]
  },
  {
   "cell_type": "code",
   "execution_count": null,
   "metadata": {},
   "outputs": [],
   "source": []
  },
  {
   "cell_type": "code",
   "execution_count": null,
   "metadata": {},
   "outputs": [],
   "source": []
  },
  {
   "cell_type": "code",
   "execution_count": null,
   "metadata": {},
   "outputs": [],
   "source": [
    "#volcano plot"
   ]
  },
  {
   "cell_type": "code",
   "execution_count": null,
   "metadata": {},
   "outputs": [],
   "source": []
  },
  {
   "cell_type": "code",
   "execution_count": null,
   "metadata": {},
   "outputs": [],
   "source": []
  }
 ],
 "metadata": {
  "kernelspec": {
   "display_name": "base",
   "language": "python",
   "name": "python3"
  },
  "language_info": {
   "codemirror_mode": {
    "name": "ipython",
    "version": 3
   },
   "file_extension": ".py",
   "mimetype": "text/x-python",
   "name": "python",
   "nbconvert_exporter": "python",
   "pygments_lexer": "ipython3",
   "version": "3.11.7"
  }
 },
 "nbformat": 4,
 "nbformat_minor": 2
}
